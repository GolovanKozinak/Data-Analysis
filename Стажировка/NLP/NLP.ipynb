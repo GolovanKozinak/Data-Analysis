{
 "cells": [
  {
   "cell_type": "code",
   "execution_count": 45,
   "metadata": {},
   "outputs": [],
   "source": [
    "import pandas as pd\n",
    "import re\n",
    "from pymystem3 import Mystem\n",
    "from sklearn.feature_extraction.text import TfidfVectorizer\n",
    "from nltk.corpus import stopwords\n",
    "import nltk\n",
    "import numpy as np\n",
    "\n",
    "from sklearn.model_selection import cross_val_score, KFold, ShuffleSplit, train_test_split\n",
    "from sklearn.metrics import accuracy_score\n",
    "from sklearn.feature_extraction.text import CountVectorizer\n",
    "from sklearn.linear_model import LogisticRegression\n",
    "from sklearn.tree import DecisionTreeClassifier\n",
    "from sklearn.preprocessing import OneHotEncoder\n",
    "from sklearn.ensemble import VotingClassifier\n",
    "from sklearn.metrics import f1_score\n",
    "from sklearn.svm import SVC\n",
    "from sklearn.ensemble import RandomForestClassifier, GradientBoostingClassifier\n",
    "from numpy import argmax\n",
    "from matplotlib import pyplot as plt"
   ]
  },
  {
   "cell_type": "code",
   "execution_count": 3,
   "metadata": {},
   "outputs": [],
   "source": [
    "# Чтобы ошибки не мозолили глаза\n",
    "import warnings\n",
    "warnings.filterwarnings('ignore')"
   ]
  },
  {
   "cell_type": "markdown",
   "metadata": {},
   "source": [
    "# Задание\n",
    "\n",
    "Постройте классификатор, предсказывающий `category_id` на основании текстовой переменной `item_name` и категориальных переменных `item_price` и/или `brands`. \n",
    "Значения переменной item_name необходимо предобработать, рассмотреть необходимость использования лемматизации и н-грамм, построить векторное представление [TF-IDF](https://ru.wikipedia.org/wiki/TF-IDF) и подобрать оптимальный размер словаря. \n",
    "Категориальные переменные при необходимости так же нужно закодировать. \n",
    "Для обработанных признаков необходимо выбрать модель/модели и настроить их параметры. Дополнительно можно рассмотреть построение ансамблей алгоритмов."
   ]
  },
  {
   "cell_type": "code",
   "execution_count": 4,
   "metadata": {},
   "outputs": [
    {
     "data": {
      "text/html": [
       "<div>\n",
       "<style scoped>\n",
       "    .dataframe tbody tr th:only-of-type {\n",
       "        vertical-align: middle;\n",
       "    }\n",
       "\n",
       "    .dataframe tbody tr th {\n",
       "        vertical-align: top;\n",
       "    }\n",
       "\n",
       "    .dataframe thead th {\n",
       "        text-align: right;\n",
       "    }\n",
       "</style>\n",
       "<table border=\"1\" class=\"dataframe\">\n",
       "  <thead>\n",
       "    <tr style=\"text-align: right;\">\n",
       "      <th></th>\n",
       "      <th>receipt_id</th>\n",
       "      <th>receipt_dayofweek</th>\n",
       "      <th>receipt_time</th>\n",
       "      <th>item_name</th>\n",
       "      <th>item_quantity</th>\n",
       "      <th>item_price</th>\n",
       "      <th>item_nds_rate</th>\n",
       "      <th>category_id</th>\n",
       "      <th>brands</th>\n",
       "    </tr>\n",
       "  </thead>\n",
       "  <tbody>\n",
       "    <tr>\n",
       "      <th>0</th>\n",
       "      <td>11</td>\n",
       "      <td>6</td>\n",
       "      <td>20:34</td>\n",
       "      <td>Молоко 3,2%,шт</td>\n",
       "      <td>2.0</td>\n",
       "      <td>8</td>\n",
       "      <td>2</td>\n",
       "      <td>78</td>\n",
       "      <td>NaN</td>\n",
       "    </tr>\n",
       "    <tr>\n",
       "      <th>1</th>\n",
       "      <td>39</td>\n",
       "      <td>4</td>\n",
       "      <td>11:28</td>\n",
       "      <td>Компот из изюма, 114 ккал</td>\n",
       "      <td>1.0</td>\n",
       "      <td>4</td>\n",
       "      <td>1</td>\n",
       "      <td>71</td>\n",
       "      <td>NaN</td>\n",
       "    </tr>\n",
       "    <tr>\n",
       "      <th>2</th>\n",
       "      <td>39</td>\n",
       "      <td>4</td>\n",
       "      <td>11:28</td>\n",
       "      <td>Макаронные изделия отварные (масло сливочное),...</td>\n",
       "      <td>1.0</td>\n",
       "      <td>4</td>\n",
       "      <td>1</td>\n",
       "      <td>71</td>\n",
       "      <td>NaN</td>\n",
       "    </tr>\n",
       "    <tr>\n",
       "      <th>3</th>\n",
       "      <td>56</td>\n",
       "      <td>5</td>\n",
       "      <td>11:42</td>\n",
       "      <td>Кофе Капучино Большой Эден 18</td>\n",
       "      <td>1.0</td>\n",
       "      <td>12</td>\n",
       "      <td>1</td>\n",
       "      <td>70</td>\n",
       "      <td>NaN</td>\n",
       "    </tr>\n",
       "    <tr>\n",
       "      <th>4</th>\n",
       "      <td>105</td>\n",
       "      <td>3</td>\n",
       "      <td>01:53</td>\n",
       "      <td>Хлеб на СЫВОРОТКЕ 350г</td>\n",
       "      <td>1.0</td>\n",
       "      <td>7</td>\n",
       "      <td>-1</td>\n",
       "      <td>84</td>\n",
       "      <td>NaN</td>\n",
       "    </tr>\n",
       "  </tbody>\n",
       "</table>\n",
       "</div>"
      ],
      "text/plain": [
       "   receipt_id  receipt_dayofweek receipt_time  \\\n",
       "0          11                  6        20:34   \n",
       "1          39                  4        11:28   \n",
       "2          39                  4        11:28   \n",
       "3          56                  5        11:42   \n",
       "4         105                  3        01:53   \n",
       "\n",
       "                                           item_name  item_quantity  \\\n",
       "0                                     Молоко 3,2%,шт            2.0   \n",
       "1                          Компот из изюма, 114 ккал            1.0   \n",
       "2  Макаронные изделия отварные (масло сливочное),...            1.0   \n",
       "3                      Кофе Капучино Большой Эден 18            1.0   \n",
       "4                             Хлеб на СЫВОРОТКЕ 350г            1.0   \n",
       "\n",
       "   item_price  item_nds_rate  category_id brands  \n",
       "0           8              2           78    NaN  \n",
       "1           4              1           71    NaN  \n",
       "2           4              1           71    NaN  \n",
       "3          12              1           70    NaN  \n",
       "4           7             -1           84    NaN  "
      ]
     },
     "execution_count": 4,
     "metadata": {},
     "output_type": "execute_result"
    }
   ],
   "source": [
    "data = pd.read_csv('data.csv')\n",
    "data.head()"
   ]
  },
  {
   "cell_type": "code",
   "execution_count": 5,
   "metadata": {},
   "outputs": [
    {
     "data": {
      "text/plain": [
       "(99221, 9)"
      ]
     },
     "execution_count": 5,
     "metadata": {},
     "output_type": "execute_result"
    }
   ],
   "source": [
    "data.shape"
   ]
  },
  {
   "cell_type": "markdown",
   "metadata": {},
   "source": [
    "# Предобработка"
   ]
  },
  {
   "cell_type": "code",
   "execution_count": 7,
   "metadata": {},
   "outputs": [],
   "source": [
    "def preprocess(s):\n",
    "    pattern = '[а-яё]{3,}'\n",
    "    s = ' '.join(re.findall(pattern, s.lower()))\n",
    "    return s"
   ]
  },
  {
   "cell_type": "markdown",
   "metadata": {},
   "source": [
    "Добавим новую колонку с предобработанным текстом"
   ]
  },
  {
   "cell_type": "code",
   "execution_count": 8,
   "metadata": {},
   "outputs": [],
   "source": [
    "data['item_name'] = data['item_name'].astype('str')\n",
    "data['item_preproc'] = data['item_name'].apply(preprocess)"
   ]
  },
  {
   "cell_type": "code",
   "execution_count": 9,
   "metadata": {},
   "outputs": [
    {
     "data": {
      "text/html": [
       "<div>\n",
       "<style scoped>\n",
       "    .dataframe tbody tr th:only-of-type {\n",
       "        vertical-align: middle;\n",
       "    }\n",
       "\n",
       "    .dataframe tbody tr th {\n",
       "        vertical-align: top;\n",
       "    }\n",
       "\n",
       "    .dataframe thead th {\n",
       "        text-align: right;\n",
       "    }\n",
       "</style>\n",
       "<table border=\"1\" class=\"dataframe\">\n",
       "  <thead>\n",
       "    <tr style=\"text-align: right;\">\n",
       "      <th></th>\n",
       "      <th>receipt_id</th>\n",
       "      <th>receipt_dayofweek</th>\n",
       "      <th>receipt_time</th>\n",
       "      <th>item_name</th>\n",
       "      <th>item_quantity</th>\n",
       "      <th>item_price</th>\n",
       "      <th>item_nds_rate</th>\n",
       "      <th>category_id</th>\n",
       "      <th>brands</th>\n",
       "      <th>item_preproc</th>\n",
       "    </tr>\n",
       "  </thead>\n",
       "  <tbody>\n",
       "    <tr>\n",
       "      <th>0</th>\n",
       "      <td>11</td>\n",
       "      <td>6</td>\n",
       "      <td>20:34</td>\n",
       "      <td>Молоко 3,2%,шт</td>\n",
       "      <td>2.0</td>\n",
       "      <td>8</td>\n",
       "      <td>2</td>\n",
       "      <td>78</td>\n",
       "      <td>NaN</td>\n",
       "      <td>молоко</td>\n",
       "    </tr>\n",
       "    <tr>\n",
       "      <th>1</th>\n",
       "      <td>39</td>\n",
       "      <td>4</td>\n",
       "      <td>11:28</td>\n",
       "      <td>Компот из изюма, 114 ккал</td>\n",
       "      <td>1.0</td>\n",
       "      <td>4</td>\n",
       "      <td>1</td>\n",
       "      <td>71</td>\n",
       "      <td>NaN</td>\n",
       "      <td>компот изюма ккал</td>\n",
       "    </tr>\n",
       "    <tr>\n",
       "      <th>2</th>\n",
       "      <td>39</td>\n",
       "      <td>4</td>\n",
       "      <td>11:28</td>\n",
       "      <td>Макаронные изделия отварные (масло сливочное),...</td>\n",
       "      <td>1.0</td>\n",
       "      <td>4</td>\n",
       "      <td>1</td>\n",
       "      <td>71</td>\n",
       "      <td>NaN</td>\n",
       "      <td>макаронные изделия отварные масло сливочное ккал</td>\n",
       "    </tr>\n",
       "    <tr>\n",
       "      <th>3</th>\n",
       "      <td>56</td>\n",
       "      <td>5</td>\n",
       "      <td>11:42</td>\n",
       "      <td>Кофе Капучино Большой Эден 18</td>\n",
       "      <td>1.0</td>\n",
       "      <td>12</td>\n",
       "      <td>1</td>\n",
       "      <td>70</td>\n",
       "      <td>NaN</td>\n",
       "      <td>кофе капучино большой эден</td>\n",
       "    </tr>\n",
       "    <tr>\n",
       "      <th>4</th>\n",
       "      <td>105</td>\n",
       "      <td>3</td>\n",
       "      <td>01:53</td>\n",
       "      <td>Хлеб на СЫВОРОТКЕ 350г</td>\n",
       "      <td>1.0</td>\n",
       "      <td>7</td>\n",
       "      <td>-1</td>\n",
       "      <td>84</td>\n",
       "      <td>NaN</td>\n",
       "      <td>хлеб сыворотке</td>\n",
       "    </tr>\n",
       "  </tbody>\n",
       "</table>\n",
       "</div>"
      ],
      "text/plain": [
       "   receipt_id  receipt_dayofweek receipt_time  \\\n",
       "0          11                  6        20:34   \n",
       "1          39                  4        11:28   \n",
       "2          39                  4        11:28   \n",
       "3          56                  5        11:42   \n",
       "4         105                  3        01:53   \n",
       "\n",
       "                                           item_name  item_quantity  \\\n",
       "0                                     Молоко 3,2%,шт            2.0   \n",
       "1                          Компот из изюма, 114 ккал            1.0   \n",
       "2  Макаронные изделия отварные (масло сливочное),...            1.0   \n",
       "3                      Кофе Капучино Большой Эден 18            1.0   \n",
       "4                             Хлеб на СЫВОРОТКЕ 350г            1.0   \n",
       "\n",
       "   item_price  item_nds_rate  category_id brands  \\\n",
       "0           8              2           78    NaN   \n",
       "1           4              1           71    NaN   \n",
       "2           4              1           71    NaN   \n",
       "3          12              1           70    NaN   \n",
       "4           7             -1           84    NaN   \n",
       "\n",
       "                                       item_preproc  \n",
       "0                                            молоко  \n",
       "1                                 компот изюма ккал  \n",
       "2  макаронные изделия отварные масло сливочное ккал  \n",
       "3                        кофе капучино большой эден  \n",
       "4                                    хлеб сыворотке  "
      ]
     },
     "execution_count": 9,
     "metadata": {},
     "output_type": "execute_result"
    }
   ],
   "source": [
    "data.head()"
   ]
  },
  {
   "cell_type": "markdown",
   "metadata": {},
   "source": [
    "# Н-граммы"
   ]
  },
  {
   "cell_type": "code",
   "execution_count": 10,
   "metadata": {},
   "outputs": [],
   "source": [
    "vectorizer = CountVectorizer()\n",
    "X = vectorizer.fit_transform(data['item_preproc'])"
   ]
  },
  {
   "cell_type": "code",
   "execution_count": 11,
   "metadata": {},
   "outputs": [
    {
     "name": "stderr",
     "output_type": "stream",
     "text": [
      "[nltk_data] Downloading package stopwords to\n",
      "[nltk_data]     C:\\Users\\ПКК\\AppData\\Roaming\\nltk_data...\n",
      "[nltk_data]   Package stopwords is already up-to-date!\n"
     ]
    }
   ],
   "source": [
    "nltk.download('stopwords')\n",
    "stop = stopwords.words('russian')\n",
    "stop.append('ккал')\n",
    "stop.append('шт')"
   ]
  },
  {
   "cell_type": "markdown",
   "metadata": {},
   "source": [
    "Биграммы"
   ]
  },
  {
   "cell_type": "code",
   "execution_count": 12,
   "metadata": {},
   "outputs": [
    {
     "name": "stdout",
     "output_type": "stream",
     "text": [
      "Размер словаря:  44\n",
      "Словарь: ['авт колор', 'американо средний', 'бедра куриного', 'большой эден', 'бумага туалетная', 'варено копченые', 'вафли топленым', 'вес тортугалия', 'дог куриный', 'изделия отварные', 'капучино большой', 'картофель фри', 'компот изюма', 'копченые мяса', 'кофе американо', 'кофе капучино', 'кубанский молочник', 'кур фил', 'куриного жареное', 'ланчбаскет ориг', 'лоск авт', 'макаронные изделия', 'масло сливочное', 'молоко пастерилиз', 'молоком вес', 'мяса охладенные', 'набер челны', 'нектар мультифрук', 'ориг стрипсы', 'отварные масло', 'пастерилиз рекс', 'рекс бмк', 'сметана кубанский', 'сосиска тесте', 'спинки варено', 'станд картофель', 'стрипсы кур', 'тесте сыром', 'топленым молоком', 'туалетная набер', 'филе бедра', 'хлеб сыворотке', 'хот дог', 'чизбургер луком']\n"
     ]
    }
   ],
   "source": [
    "cv = CountVectorizer(ngram_range=(2, 2), stop_words=stop).fit(data['item_preproc'][:25])\n",
    "print(\"Размер словаря: \", len(cv.vocabulary_))\n",
    "print(\"Словарь:\", cv.get_feature_names())"
   ]
  },
  {
   "cell_type": "markdown",
   "metadata": {},
   "source": [
    "Триграммы"
   ]
  },
  {
   "cell_type": "code",
   "execution_count": 13,
   "metadata": {},
   "outputs": [
    {
     "name": "stdout",
     "output_type": "stream",
     "text": [
      "Размер словаря:  26\n",
      "Словарь: ['бедра куриного жареное', 'бумага туалетная набер', 'варено копченые мяса', 'вафли топленым молоком', 'изделия отварные масло', 'капучино большой эден', 'копченые мяса охладенные', 'кофе американо средний', 'кофе капучино большой', 'ланчбаскет ориг стрипсы', 'лоск авт колор', 'макаронные изделия отварные', 'молоко пастерилиз рекс', 'молоком вес тортугалия', 'ориг стрипсы кур', 'отварные масло сливочное', 'пастерилиз рекс бмк', 'сметана кубанский молочник', 'сосиска тесте сыром', 'спинки варено копченые', 'станд картофель фри', 'стрипсы кур фил', 'топленым молоком вес', 'туалетная набер челны', 'филе бедра куриного', 'хот дог куриный']\n"
     ]
    }
   ],
   "source": [
    "cv = CountVectorizer(ngram_range=(3, 3), stop_words=stop).fit(data['item_preproc'][:25])\n",
    "print(\"Размер словаря: \", len(cv.vocabulary_))\n",
    "print(\"Словарь:\", cv.get_feature_names())"
   ]
  },
  {
   "cell_type": "markdown",
   "metadata": {},
   "source": [
    "# Классификация с Н-граммами\n",
    "\n",
    "Биграммы"
   ]
  },
  {
   "cell_type": "code",
   "execution_count": 14,
   "metadata": {},
   "outputs": [],
   "source": [
    "tfidf = TfidfVectorizer(stop_words=stop, max_features=1000, ngram_range=(2, 2))\n",
    "X = tfidf.fit_transform(data.item_preproc)\n",
    "y = data.category_id"
   ]
  },
  {
   "cell_type": "code",
   "execution_count": 15,
   "metadata": {},
   "outputs": [
    {
     "name": "stdout",
     "output_type": "stream",
     "text": [
      "[0.39582513 0.35136491 0.33500316]\n"
     ]
    }
   ],
   "source": [
    "clf = LogisticRegression(max_iter=100, class_weight='balanced', C = 0.1)\n",
    "print('Среднее \\n',cross_val_score(clf, X, y, cv=3, scoring='f1_weighted'))"
   ]
  },
  {
   "cell_type": "markdown",
   "metadata": {},
   "source": [
    "Триграммы"
   ]
  },
  {
   "cell_type": "code",
   "execution_count": 16,
   "metadata": {},
   "outputs": [],
   "source": [
    "tfidf = TfidfVectorizer(stop_words=stop, max_features=1000, ngram_range=(3, 3))\n",
    "X = tfidf.fit_transform(data.item_preproc)"
   ]
  },
  {
   "cell_type": "code",
   "execution_count": 17,
   "metadata": {},
   "outputs": [
    {
     "name": "stdout",
     "output_type": "stream",
     "text": [
      "[0.16931148 0.14017387 0.13285841]\n"
     ]
    }
   ],
   "source": [
    "clf = LogisticRegression(max_iter=100, class_weight='balanced', C = 0.1)\n",
    "print('Среднее \\n',cross_val_score(clf, X, y, cv=3, scoring='f1_weighted'))"
   ]
  },
  {
   "cell_type": "markdown",
   "metadata": {},
   "source": [
    "Н-граммы"
   ]
  },
  {
   "cell_type": "code",
   "execution_count": 18,
   "metadata": {},
   "outputs": [],
   "source": [
    "tfidf = TfidfVectorizer(stop_words=stop, max_features=1000)\n",
    "X = tfidf.fit_transform(data.item_preproc)"
   ]
  },
  {
   "cell_type": "code",
   "execution_count": 19,
   "metadata": {},
   "outputs": [
    {
     "name": "stdout",
     "output_type": "stream",
     "text": [
      "[0.63725976 0.62463009 0.59416746]\n"
     ]
    }
   ],
   "source": [
    "clf = LogisticRegression(max_iter=100, class_weight='balanced', C = 0.1)\n",
    "print('Среднее \\n',cross_val_score(clf, X, y, cv=3, scoring='f1_weighted'))"
   ]
  },
  {
   "cell_type": "markdown",
   "metadata": {},
   "source": [
    "Н-граммы дали лучший результат, по сравнению с би- и триграммами."
   ]
  },
  {
   "cell_type": "markdown",
   "metadata": {},
   "source": [
    "# Кодирование категориальных переменных.\n",
    "Используем категориальную переменную `item_price` для классификации"
   ]
  },
  {
   "cell_type": "markdown",
   "metadata": {},
   "source": [
    "Dummie"
   ]
  },
  {
   "cell_type": "code",
   "execution_count": 71,
   "metadata": {},
   "outputs": [
    {
     "name": "stdout",
     "output_type": "stream",
     "text": [
      "[[0 0 0 ... 0 0 0]\n",
      " [0 0 0 ... 0 0 0]\n",
      " [0 0 0 ... 0 0 0]\n",
      " ...\n",
      " [0 0 0 ... 0 0 0]\n",
      " [0 0 0 ... 0 0 0]\n",
      " [0 0 0 ... 0 0 0]]\n"
     ]
    }
   ],
   "source": [
    "clf = RandomForestClassifier(max_depth = 10)\n",
    "X = pd.get_dummies(data['item_price'])\n",
    "print(X.values)"
   ]
  },
  {
   "cell_type": "code",
   "execution_count": 72,
   "metadata": {},
   "outputs": [
    {
     "name": "stdout",
     "output_type": "stream",
     "text": [
      "Среднее \n",
      " 0.06353112130333338\n"
     ]
    }
   ],
   "source": [
    "print('Среднее \\n', np.mean(cross_val_score(clf, X, y, cv=3, scoring='f1_weighted')))"
   ]
  },
  {
   "cell_type": "markdown",
   "metadata": {},
   "source": [
    "OneHotEncoder"
   ]
  },
  {
   "cell_type": "code",
   "execution_count": 52,
   "metadata": {},
   "outputs": [
    {
     "name": "stdout",
     "output_type": "stream",
     "text": [
      "  (0, 8)\t1.0\n",
      "  (1, 4)\t1.0\n",
      "  (2, 4)\t1.0\n",
      "  (3, 12)\t1.0\n",
      "  (4, 7)\t1.0\n",
      "  (5, 7)\t1.0\n",
      "  (6, 8)\t1.0\n",
      "  (7, 8)\t1.0\n",
      "  (8, 9)\t1.0\n",
      "  (9, 9)\t1.0\n"
     ]
    }
   ],
   "source": [
    "ohe = OneHotEncoder().fit(data['item_price'].values.reshape(-1,1))\n",
    "X = ohe.transform(data['item_price'].values.reshape(-1,1))\n",
    "print(X[:10])"
   ]
  },
  {
   "cell_type": "code",
   "execution_count": 53,
   "metadata": {},
   "outputs": [
    {
     "name": "stdout",
     "output_type": "stream",
     "text": [
      "Среднее \n",
      " 0.06446401821438598\n"
     ]
    }
   ],
   "source": [
    "print('Среднее \\n', np.mean(cross_val_score(clf, X, y, cv=3, scoring='f1_weighted')))"
   ]
  },
  {
   "cell_type": "markdown",
   "metadata": {},
   "source": [
    "TargetEncoder"
   ]
  },
  {
   "cell_type": "code",
   "execution_count": 54,
   "metadata": {},
   "outputs": [
    {
     "name": "stdout",
     "output_type": "stream",
     "text": [
      "    0\n",
      "0   8\n",
      "1   4\n",
      "2   4\n",
      "3  12\n",
      "4   7\n",
      "5   7\n",
      "6   8\n",
      "7   8\n",
      "8   9\n",
      "9   9\n"
     ]
    }
   ],
   "source": [
    "import category_encoders as ce\n",
    "TE = ce.TargetEncoder().fit(data['item_price'].values.reshape(-1,1), y)\n",
    "X = TE.transform(data['item_price'].values.reshape(-1,1))\n",
    "print(X[:10])"
   ]
  },
  {
   "cell_type": "code",
   "execution_count": 55,
   "metadata": {},
   "outputs": [
    {
     "name": "stdout",
     "output_type": "stream",
     "text": [
      "Среднее \n",
      " 0.07279764774787857\n"
     ]
    }
   ],
   "source": [
    "print('Среднее \\n', np.mean(cross_val_score(clf, X, y, cv=3, scoring='f1_weighted')))"
   ]
  },
  {
   "cell_type": "markdown",
   "metadata": {},
   "source": [
    "TargetEncoder справился лучше."
   ]
  },
  {
   "cell_type": "markdown",
   "metadata": {},
   "source": [
    "# Используем категориальную переменную `brands` для классификации"
   ]
  },
  {
   "cell_type": "markdown",
   "metadata": {},
   "source": [
    "Заменим значения NaN на `Без бренда`, чтобы корректно работала модель"
   ]
  },
  {
   "cell_type": "code",
   "execution_count": 57,
   "metadata": {},
   "outputs": [
    {
     "data": {
      "text/html": [
       "<div>\n",
       "<style scoped>\n",
       "    .dataframe tbody tr th:only-of-type {\n",
       "        vertical-align: middle;\n",
       "    }\n",
       "\n",
       "    .dataframe tbody tr th {\n",
       "        vertical-align: top;\n",
       "    }\n",
       "\n",
       "    .dataframe thead th {\n",
       "        text-align: right;\n",
       "    }\n",
       "</style>\n",
       "<table border=\"1\" class=\"dataframe\">\n",
       "  <thead>\n",
       "    <tr style=\"text-align: right;\">\n",
       "      <th></th>\n",
       "      <th>receipt_id</th>\n",
       "      <th>receipt_dayofweek</th>\n",
       "      <th>receipt_time</th>\n",
       "      <th>item_name</th>\n",
       "      <th>item_quantity</th>\n",
       "      <th>item_price</th>\n",
       "      <th>item_nds_rate</th>\n",
       "      <th>category_id</th>\n",
       "      <th>brands</th>\n",
       "    </tr>\n",
       "  </thead>\n",
       "  <tbody>\n",
       "    <tr>\n",
       "      <th>0</th>\n",
       "      <td>11</td>\n",
       "      <td>6</td>\n",
       "      <td>20:34</td>\n",
       "      <td>Молоко 3,2%,шт</td>\n",
       "      <td>2.0</td>\n",
       "      <td>8</td>\n",
       "      <td>2</td>\n",
       "      <td>78</td>\n",
       "      <td>Без бренда</td>\n",
       "    </tr>\n",
       "    <tr>\n",
       "      <th>1</th>\n",
       "      <td>39</td>\n",
       "      <td>4</td>\n",
       "      <td>11:28</td>\n",
       "      <td>Компот из изюма, 114 ккал</td>\n",
       "      <td>1.0</td>\n",
       "      <td>4</td>\n",
       "      <td>1</td>\n",
       "      <td>71</td>\n",
       "      <td>Без бренда</td>\n",
       "    </tr>\n",
       "    <tr>\n",
       "      <th>2</th>\n",
       "      <td>39</td>\n",
       "      <td>4</td>\n",
       "      <td>11:28</td>\n",
       "      <td>Макаронные изделия отварные (масло сливочное),...</td>\n",
       "      <td>1.0</td>\n",
       "      <td>4</td>\n",
       "      <td>1</td>\n",
       "      <td>71</td>\n",
       "      <td>Без бренда</td>\n",
       "    </tr>\n",
       "    <tr>\n",
       "      <th>3</th>\n",
       "      <td>56</td>\n",
       "      <td>5</td>\n",
       "      <td>11:42</td>\n",
       "      <td>Кофе Капучино Большой Эден 18</td>\n",
       "      <td>1.0</td>\n",
       "      <td>12</td>\n",
       "      <td>1</td>\n",
       "      <td>70</td>\n",
       "      <td>Без бренда</td>\n",
       "    </tr>\n",
       "    <tr>\n",
       "      <th>4</th>\n",
       "      <td>105</td>\n",
       "      <td>3</td>\n",
       "      <td>01:53</td>\n",
       "      <td>Хлеб на СЫВОРОТКЕ 350г</td>\n",
       "      <td>1.0</td>\n",
       "      <td>7</td>\n",
       "      <td>-1</td>\n",
       "      <td>84</td>\n",
       "      <td>Без бренда</td>\n",
       "    </tr>\n",
       "    <tr>\n",
       "      <th>5</th>\n",
       "      <td>122</td>\n",
       "      <td>0</td>\n",
       "      <td>11:46</td>\n",
       "      <td>Сосиска в тесте с сыром 1шт ГЕ</td>\n",
       "      <td>3.0</td>\n",
       "      <td>7</td>\n",
       "      <td>2</td>\n",
       "      <td>84</td>\n",
       "      <td>Без бренда</td>\n",
       "    </tr>\n",
       "    <tr>\n",
       "      <th>6</th>\n",
       "      <td>129</td>\n",
       "      <td>3</td>\n",
       "      <td>15:17</td>\n",
       "      <td>ЛанчБаскет 5 за 300: 2 шт ОРИГ Стрипсы кур фил</td>\n",
       "      <td>1.0</td>\n",
       "      <td>8</td>\n",
       "      <td>2</td>\n",
       "      <td>69</td>\n",
       "      <td>Без бренда</td>\n",
       "    </tr>\n",
       "    <tr>\n",
       "      <th>7</th>\n",
       "      <td>129</td>\n",
       "      <td>3</td>\n",
       "      <td>15:17</td>\n",
       "      <td>Станд Картофель фри</td>\n",
       "      <td>2.0</td>\n",
       "      <td>8</td>\n",
       "      <td>6</td>\n",
       "      <td>69</td>\n",
       "      <td>Без бренда</td>\n",
       "    </tr>\n",
       "    <tr>\n",
       "      <th>8</th>\n",
       "      <td>129</td>\n",
       "      <td>3</td>\n",
       "      <td>15:17</td>\n",
       "      <td>Хот-дог Куриный СБ</td>\n",
       "      <td>1.0</td>\n",
       "      <td>9</td>\n",
       "      <td>2</td>\n",
       "      <td>69</td>\n",
       "      <td>Без бренда</td>\n",
       "    </tr>\n",
       "    <tr>\n",
       "      <th>9</th>\n",
       "      <td>129</td>\n",
       "      <td>3</td>\n",
       "      <td>15:17</td>\n",
       "      <td>Чизбургер с луком СБ</td>\n",
       "      <td>1.0</td>\n",
       "      <td>9</td>\n",
       "      <td>2</td>\n",
       "      <td>68</td>\n",
       "      <td>Без бренда</td>\n",
       "    </tr>\n",
       "  </tbody>\n",
       "</table>\n",
       "</div>"
      ],
      "text/plain": [
       "   receipt_id  receipt_dayofweek receipt_time  \\\n",
       "0          11                  6        20:34   \n",
       "1          39                  4        11:28   \n",
       "2          39                  4        11:28   \n",
       "3          56                  5        11:42   \n",
       "4         105                  3        01:53   \n",
       "5         122                  0        11:46   \n",
       "6         129                  3        15:17   \n",
       "7         129                  3        15:17   \n",
       "8         129                  3        15:17   \n",
       "9         129                  3        15:17   \n",
       "\n",
       "                                           item_name  item_quantity  \\\n",
       "0                                     Молоко 3,2%,шт            2.0   \n",
       "1                          Компот из изюма, 114 ккал            1.0   \n",
       "2  Макаронные изделия отварные (масло сливочное),...            1.0   \n",
       "3                      Кофе Капучино Большой Эден 18            1.0   \n",
       "4                             Хлеб на СЫВОРОТКЕ 350г            1.0   \n",
       "5                     Сосиска в тесте с сыром 1шт ГЕ            3.0   \n",
       "6     ЛанчБаскет 5 за 300: 2 шт ОРИГ Стрипсы кур фил            1.0   \n",
       "7                                Станд Картофель фри            2.0   \n",
       "8                                 Хот-дог Куриный СБ            1.0   \n",
       "9                               Чизбургер с луком СБ            1.0   \n",
       "\n",
       "   item_price  item_nds_rate  category_id      brands  \n",
       "0           8              2           78  Без бренда  \n",
       "1           4              1           71  Без бренда  \n",
       "2           4              1           71  Без бренда  \n",
       "3          12              1           70  Без бренда  \n",
       "4           7             -1           84  Без бренда  \n",
       "5           7              2           84  Без бренда  \n",
       "6           8              2           69  Без бренда  \n",
       "7           8              6           69  Без бренда  \n",
       "8           9              2           69  Без бренда  \n",
       "9           9              2           68  Без бренда  "
      ]
     },
     "execution_count": 57,
     "metadata": {},
     "output_type": "execute_result"
    }
   ],
   "source": [
    "data = pd.read_csv('data.csv')\n",
    "data = data.fillna('Без бренда')\n",
    "data.head(10)"
   ]
  },
  {
   "cell_type": "code",
   "execution_count": 59,
   "metadata": {},
   "outputs": [
    {
     "data": {
      "text/plain": [
       "array(['Без бренда', 'zewa', 'кока-кола', ..., 'леди джем', 'puff', 'тот'],\n",
       "      dtype=object)"
      ]
     },
     "execution_count": 59,
     "metadata": {},
     "output_type": "execute_result"
    }
   ],
   "source": [
    "data.brands.unique()"
   ]
  },
  {
   "cell_type": "markdown",
   "metadata": {},
   "source": [
    "Dummie "
   ]
  },
  {
   "cell_type": "code",
   "execution_count": 69,
   "metadata": {},
   "outputs": [
    {
     "name": "stdout",
     "output_type": "stream",
     "text": [
      "[[0 0 0 ... 0 0 0]\n",
      " [0 0 0 ... 0 0 0]\n",
      " [0 0 0 ... 0 0 0]\n",
      " ...\n",
      " [0 0 0 ... 0 0 0]\n",
      " [0 0 0 ... 0 0 0]\n",
      " [0 0 0 ... 0 0 0]]\n"
     ]
    }
   ],
   "source": [
    "clf = RandomForestClassifier(max_depth = 10)\n",
    "X = pd.get_dummies(data['brands'])\n",
    "print(X.values)"
   ]
  },
  {
   "cell_type": "code",
   "execution_count": 70,
   "metadata": {},
   "outputs": [
    {
     "name": "stdout",
     "output_type": "stream",
     "text": [
      "Среднее \n",
      " 0.0640503502198634\n"
     ]
    }
   ],
   "source": [
    "print('Среднее \\n', np.mean(cross_val_score(clf, X, y, cv=3, scoring='f1_weighted')))"
   ]
  },
  {
   "cell_type": "markdown",
   "metadata": {},
   "source": [
    "OneHotEncoder"
   ]
  },
  {
   "cell_type": "code",
   "execution_count": 60,
   "metadata": {},
   "outputs": [
    {
     "name": "stdout",
     "output_type": "stream",
     "text": [
      "  (0, 1376)\t1.0\n",
      "  (1, 1376)\t1.0\n",
      "  (2, 1376)\t1.0\n",
      "  (3, 1376)\t1.0\n",
      "  (4, 1376)\t1.0\n",
      "  (5, 1376)\t1.0\n",
      "  (6, 1376)\t1.0\n",
      "  (7, 1376)\t1.0\n",
      "  (8, 1376)\t1.0\n",
      "  (9, 1376)\t1.0\n"
     ]
    }
   ],
   "source": [
    "ohe = OneHotEncoder().fit(data['brands'].values.reshape(-1,1))\n",
    "X = ohe.transform(data['brands'].values.reshape(-1,1))\n",
    "print(X[:10])"
   ]
  },
  {
   "cell_type": "code",
   "execution_count": 61,
   "metadata": {},
   "outputs": [
    {
     "name": "stdout",
     "output_type": "stream",
     "text": [
      "Среднее \n",
      " 0.06381077558093833\n"
     ]
    }
   ],
   "source": [
    "print('Среднее \\n', np.mean(cross_val_score(clf, X, y, cv=3, scoring='f1_weighted')))"
   ]
  },
  {
   "cell_type": "markdown",
   "metadata": {},
   "source": [
    "TargetEncoder"
   ]
  },
  {
   "cell_type": "code",
   "execution_count": 62,
   "metadata": {},
   "outputs": [
    {
     "name": "stdout",
     "output_type": "stream",
     "text": [
      "           0\n",
      "0  77.532886\n",
      "1  77.532886\n",
      "2  77.532886\n",
      "3  77.532886\n",
      "4  77.532886\n",
      "5  77.532886\n",
      "6  77.532886\n",
      "7  77.532886\n",
      "8  77.532886\n",
      "9  77.532886\n"
     ]
    }
   ],
   "source": [
    "import category_encoders as ce\n",
    "TE = ce.TargetEncoder().fit(data['brands'].values.reshape(-1,1), y)\n",
    "X = TE.transform(data['brands'].values.reshape(-1,1))\n",
    "print(X[:10])"
   ]
  },
  {
   "cell_type": "code",
   "execution_count": 63,
   "metadata": {},
   "outputs": [
    {
     "name": "stdout",
     "output_type": "stream",
     "text": [
      "Среднее \n",
      " 0.14956715366727383\n"
     ]
    }
   ],
   "source": [
    "print('Среднее \\n', np.mean(cross_val_score(clf, X, y, cv=3, scoring='f1_weighted')))"
   ]
  },
  {
   "cell_type": "markdown",
   "metadata": {},
   "source": [
    "TargetEncoder справился лучше и даже превзошёл переменную `item_price`."
   ]
  },
  {
   "cell_type": "markdown",
   "metadata": {},
   "source": [
    "# Итоги\n",
    "\n",
    "1. Использование предобработки и Н-грамм помогло достичь точности в 63%, биграммы и триграммы дали меньшую точность.\n",
    "\n",
    "2. Кодирование и последующая классификация категориальных переменных дали точность хуже, чем при предобработке:\n",
    "\n",
    "    Использование переменной `item_name` дало результаты в 7% при кодировке TargetEncoder-ом.\n",
    "    \n",
    "    Использование переменной `brands` дало результаты в 14%, при кодировке TargetEncoder-ом."
   ]
  },
  {
   "cell_type": "markdown",
   "metadata": {},
   "source": [
    "Ансамбли решил не делать, т.к. они вряд ли как-то повлияют на точность."
   ]
  },
  {
   "cell_type": "code",
   "execution_count": null,
   "metadata": {},
   "outputs": [],
   "source": []
  }
 ],
 "metadata": {
  "kernelspec": {
   "display_name": "Python 3",
   "language": "python",
   "name": "python3"
  },
  "language_info": {
   "codemirror_mode": {
    "name": "ipython",
    "version": 3
   },
   "file_extension": ".py",
   "mimetype": "text/x-python",
   "name": "python",
   "nbconvert_exporter": "python",
   "pygments_lexer": "ipython3",
   "version": "3.8.8"
  }
 },
 "nbformat": 4,
 "nbformat_minor": 4
}
