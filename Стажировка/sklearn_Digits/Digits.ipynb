{
 "cells": [
  {
   "cell_type": "code",
   "execution_count": 1,
   "metadata": {},
   "outputs": [],
   "source": [
    "# Необходимые пакеты\n",
    "import numpy as np\n",
    "import pandas as pd\n",
    "import mglearn\n",
    "import seaborn as sns\n",
    "from matplotlib import pyplot as plt\n",
    "from sklearn.model_selection import train_test_split\n",
    "from sklearn.metrics import f1_score, confusion_matrix\n",
    "\n",
    "# Датасет\n",
    "from sklearn.datasets import load_digits\n",
    "\n",
    "# Модели для классификации\n",
    "from sklearn.dummy import DummyClassifier\n",
    "from sklearn.neighbors import KNeighborsClassifier\n",
    "from sklearn.ensemble import RandomForestClassifier\n",
    "from sklearn.svm import SVC"
   ]
  },
  {
   "cell_type": "markdown",
   "metadata": {},
   "source": [
    "# Задание\n",
    "Постройте классификатор рукописных цифр по данным digits из библиотеки scikit-learn,\n",
    "оцените качество результата классификации, визуализируйте результат классификации в двумерной плоскости."
   ]
  },
  {
   "cell_type": "code",
   "execution_count": 2,
   "metadata": {},
   "outputs": [
    {
     "name": "stdout",
     "output_type": "stream",
     "text": [
      "Данные\n",
      " [[ 0.  0.  5. ...  0.  0.  0.]\n",
      " [ 0.  0.  0. ... 10.  0.  0.]\n",
      " [ 0.  0.  0. ... 16.  9.  0.]\n",
      " ...\n",
      " [ 0.  0.  1. ...  6.  0.  0.]\n",
      " [ 0.  0.  2. ... 12.  0.  0.]\n",
      " [ 0.  0. 10. ... 12.  1.  0.]]\n",
      "\n",
      "Размер данных (1797, 64)\n",
      "\n",
      "Классы [0 1 2 ... 8 9 8]\n"
     ]
    }
   ],
   "source": [
    "digits = load_digits()\n",
    "df = pd.Series(digits)\n",
    "X = digits.data\n",
    "y = digits.target\n",
    "\n",
    "print('Данные\\n', X)\n",
    "print('\\nРазмер данных',X.shape)\n",
    "print('\\nКлассы', y)"
   ]
  },
  {
   "cell_type": "code",
   "execution_count": 3,
   "metadata": {},
   "outputs": [
    {
     "data": {
      "text/plain": [
       "dict_keys(['data', 'target', 'frame', 'feature_names', 'target_names', 'images', 'DESCR'])"
      ]
     },
     "execution_count": 3,
     "metadata": {},
     "output_type": "execute_result"
    }
   ],
   "source": [
    "digits.keys()"
   ]
  },
  {
   "cell_type": "code",
   "execution_count": 4,
   "metadata": {},
   "outputs": [
    {
     "name": "stdout",
     "output_type": "stream",
     "text": [
      "Баланс классов в датасете\n",
      "Уникальные спрогнозированные метки: [3]\n",
      "Точность на тестовом наборе: 10.18%\n"
     ]
    }
   ],
   "source": [
    "dummy_majority = DummyClassifier(strategy='most_frequent').fit(X, y) # Находит наиболее частовстречающийся класс (баланс классов)\n",
    "pred_most_frequent = dummy_majority.predict(X)\n",
    "print(\"Баланс классов в датасете\")\n",
    "print(\"Уникальные спрогнозированные метки: {}\".format(np.unique(pred_most_frequent)))\n",
    "print(\"Точность на тестовом наборе: {:.2f}%\".format(100*dummy_majority.score(X, y)))"
   ]
  },
  {
   "cell_type": "markdown",
   "metadata": {},
   "source": [
    "В данном датасете у цифры 4 наибольшее содержание"
   ]
  },
  {
   "cell_type": "code",
   "execution_count": 5,
   "metadata": {},
   "outputs": [
    {
     "data": {
      "image/png": "[encoded data removed]",
      "text/plain": [
       "<Figure size 720x720 with 10 Axes>"
      ]
     },
     "metadata": {
      "needs_background": "light"
     },
     "output_type": "display_data"
    }
   ],
   "source": [
    "fig = plt.figure(figsize=(10,10))\n",
    "for i in range(10):\n",
    "    plt.subplot(5,5,i+1)\n",
    "    plt.imshow(X[i].reshape(8,8), cmap='binary')\n",
    "    plt.axis('off')"
   ]
  },
  {
   "cell_type": "code",
   "execution_count": 29,
   "metadata": {},
   "outputs": [],
   "source": [
    "# Разбиваем на обуч. и тест. выборки для обучения и оценки точности работы моделей\n",
    "X_train, X_test, y_train, y_test = train_test_split(X, y, random_state=1, train_size = 0.7)"
   ]
  },
  {
   "cell_type": "markdown",
   "metadata": {},
   "source": [
    "# Метод k-ближайших соседей"
   ]
  },
  {
   "cell_type": "code",
   "execution_count": 59,
   "metadata": {},
   "outputs": [
    {
     "name": "stdout",
     "output_type": "stream",
     "text": [
      "Точность на обучении 98.65%\n",
      "Точность на тесте 99.07%\n"
     ]
    },
    {
     "data": {
      "text/plain": [
       "array([[58,  0,  0,  0,  1,  0,  0,  0,  0,  0],\n",
       "       [ 0, 49,  0,  0,  0,  0,  0,  0,  0,  0],\n",
       "       [ 0,  0, 48,  0,  0,  0,  0,  1,  0,  0],\n",
       "       [ 0,  0,  0, 64,  0,  0,  0,  0,  0,  0],\n",
       "       [ 0,  0,  0,  0, 61,  0,  0,  0,  0,  0],\n",
       "       [ 0,  0,  0,  0,  0, 46,  0,  0,  0,  1],\n",
       "       [ 0,  0,  0,  0,  0,  0, 51,  0,  0,  0],\n",
       "       [ 0,  0,  0,  0,  0,  0,  0, 57,  0,  0],\n",
       "       [ 0,  1,  0,  0,  0,  0,  0,  0, 45,  0],\n",
       "       [ 0,  0,  0,  0,  0,  1,  0,  0,  0, 56]], dtype=int64)"
      ]
     },
     "execution_count": 59,
     "metadata": {},
     "output_type": "execute_result"
    }
   ],
   "source": [
    "# Используем сперва самый простой классификатор - классификатор ближ. соседей\n",
    "KNNC = KNeighborsClassifier().fit(X_train, y_train)\n",
    "print('Точность на обучении {:.2f}%'.format(100*KNNC.score(X_train, y_train)))\n",
    "print('Точность на тесте {:.2f}%'.format(100*KNNC.score(X_test, y_test)))\n",
    "\n",
    "preds = KNNC.predict(X_test)\n",
    "f1_score(y_test, preds, average='macro')\n",
    "confusion_matrix(y_test, preds)"
   ]
  },
  {
   "cell_type": "markdown",
   "metadata": {},
   "source": [
    "# Случаный лес"
   ]
  },
  {
   "cell_type": "code",
   "execution_count": 60,
   "metadata": {},
   "outputs": [
    {
     "name": "stdout",
     "output_type": "stream",
     "text": [
      "Точность на обучении 100.00%\n",
      "Точность на тесте 97.96%\n"
     ]
    },
    {
     "data": {
      "text/plain": [
       "array([[57,  0,  0,  0,  2,  0,  0,  0,  0,  0],\n",
       "       [ 0, 48,  0,  0,  0,  1,  0,  0,  0,  0],\n",
       "       [ 0,  0, 49,  0,  0,  0,  0,  0,  0,  0],\n",
       "       [ 0,  0,  0, 61,  0,  0,  0,  0,  2,  1],\n",
       "       [ 0,  0,  0,  0, 61,  0,  0,  0,  0,  0],\n",
       "       [ 0,  0,  0,  0,  0, 46,  0,  0,  0,  1],\n",
       "       [ 0,  0,  0,  0,  0,  0, 51,  0,  0,  0],\n",
       "       [ 0,  0,  0,  0,  0,  0,  0, 56,  0,  1],\n",
       "       [ 0,  0,  0,  0,  0,  0,  0,  0, 45,  1],\n",
       "       [ 0,  0,  0,  0,  0,  2,  0,  0,  0, 55]], dtype=int64)"
      ]
     },
     "execution_count": 60,
     "metadata": {},
     "output_type": "execute_result"
    }
   ],
   "source": [
    "RFC = RandomForestClassifier(random_state = 1).fit(X_train, y_train)\n",
    "print('Точность на обучении {:.2f}%'.format(100*RFC.score(X_train, y_train)))\n",
    "print('Точность на тесте {:.2f}%'.format(100*RFC.score(X_test, y_test)))\n",
    "\n",
    "preds = RFC.predict(X_test)\n",
    "f1_score(y_test, preds, average='macro')\n",
    "confusion_matrix(y_test, preds)"
   ]
  },
  {
   "cell_type": "markdown",
   "metadata": {},
   "source": [
    "# Метод опорных векторов "
   ]
  },
  {
   "cell_type": "markdown",
   "metadata": {},
   "source": [
    "РБФ"
   ]
  },
  {
   "cell_type": "code",
   "execution_count": 61,
   "metadata": {},
   "outputs": [
    {
     "name": "stdout",
     "output_type": "stream",
     "text": [
      "Точность на обучении 99.52%\n",
      "Точность на тесте 98.52%\n"
     ]
    },
    {
     "data": {
      "text/plain": [
       "array([[58,  0,  0,  0,  1,  0,  0,  0,  0,  0],\n",
       "       [ 0, 49,  0,  0,  0,  0,  0,  0,  0,  0],\n",
       "       [ 0,  0, 49,  0,  0,  0,  0,  0,  0,  0],\n",
       "       [ 0,  0,  1, 63,  0,  0,  0,  0,  0,  0],\n",
       "       [ 0,  0,  0,  0, 61,  0,  0,  0,  0,  0],\n",
       "       [ 0,  0,  0,  0,  0, 46,  0,  0,  0,  1],\n",
       "       [ 0,  0,  0,  0,  0,  0, 51,  0,  0,  0],\n",
       "       [ 0,  0,  0,  0,  0,  0,  0, 56,  0,  1],\n",
       "       [ 0,  1,  0,  0,  0,  0,  0,  0, 44,  1],\n",
       "       [ 0,  0,  0,  0,  0,  2,  0,  0,  0, 55]], dtype=int64)"
      ]
     },
     "execution_count": 61,
     "metadata": {},
     "output_type": "execute_result"
    }
   ],
   "source": [
    "svc = SVC(kernel = 'rbf').fit(X_train, y_train)\n",
    "print('Точность на обучении {:.2f}%'.format(100*svc.score(X_train, y_train)))\n",
    "print('Точность на тесте {:.2f}%'.format(100*svc.score(X_test, y_test)))\n",
    "\n",
    "preds = svc.predict(X_test)\n",
    "f1_score(y_test, preds, average='macro')\n",
    "confusion_matrix(y_test, preds)"
   ]
  },
  {
   "cell_type": "markdown",
   "metadata": {},
   "source": [
    "Линейная модель"
   ]
  },
  {
   "cell_type": "code",
   "execution_count": 62,
   "metadata": {},
   "outputs": [
    {
     "name": "stdout",
     "output_type": "stream",
     "text": [
      "Точность на обучении 100.00%\n",
      "Точность на тесте 98.15%\n"
     ]
    },
    {
     "data": {
      "text/plain": [
       "array([[59,  0,  0,  0,  0,  0,  0,  0,  0,  0],\n",
       "       [ 0, 49,  0,  0,  0,  0,  0,  0,  0,  0],\n",
       "       [ 0,  0, 49,  0,  0,  0,  0,  0,  0,  0],\n",
       "       [ 0,  0,  0, 63,  0,  0,  0,  0,  1,  0],\n",
       "       [ 0,  1,  0,  0, 60,  0,  0,  0,  0,  0],\n",
       "       [ 0,  0,  0,  0,  0, 46,  0,  0,  0,  1],\n",
       "       [ 0,  0,  0,  0,  0,  0, 51,  0,  0,  0],\n",
       "       [ 0,  0,  0,  0,  0,  0,  0, 56,  0,  1],\n",
       "       [ 0,  0,  0,  0,  0,  1,  0,  0, 43,  2],\n",
       "       [ 0,  0,  0,  1,  0,  1,  0,  0,  1, 54]], dtype=int64)"
      ]
     },
     "execution_count": 62,
     "metadata": {},
     "output_type": "execute_result"
    }
   ],
   "source": [
    "svc = SVC(kernel = 'linear').fit(X_train, y_train)\n",
    "print('Точность на обучении {:.2f}%'.format(100*svc.score(X_train, y_train)))\n",
    "print('Точность на тесте {:.2f}%'.format(100*svc.score(X_test, y_test)))\n",
    "\n",
    "preds = svc.predict(X_test)\n",
    "f1_score(y_test, preds, average='macro')\n",
    "confusion_matrix(y_test, preds)"
   ]
  },
  {
   "cell_type": "code",
   "execution_count": null,
   "metadata": {},
   "outputs": [],
   "source": []
  },
  {
   "cell_type": "code",
   "execution_count": null,
   "metadata": {},
   "outputs": [],
   "source": []
  }
 ],
 "metadata": {
  "kernelspec": {
   "display_name": "Python 3",
   "language": "python",
   "name": "python3"
  },
  "language_info": {
   "codemirror_mode": {
    "name": "ipython",
    "version": 3
   },
   "file_extension": ".py",
   "mimetype": "text/x-python",
   "name": "python",
   "nbconvert_exporter": "python",
   "pygments_lexer": "ipython3",
   "version": "3.8.5"
  }
 },
 "nbformat": 4,
 "nbformat_minor": 4
}
